{
 "cells": [
  {
   "cell_type": "code",
   "execution_count": 1,
   "metadata": {},
   "outputs": [],
   "source": [
    "from sympy import symbols, pi, log, cos, I, Abs, sqrt, tanh, Integral, lambdify\n",
    "from sympy.solvers import solve\n",
    "import numpy as np\n",
    "from scipy.integrate import dblquad\n",
    "from scipy.optimize import minimize\n",
    "\n",
    "from sympy import init_printing\n",
    "from IPython.display import Markdown\n",
    "init_printing()"
   ]
  },
  {
   "cell_type": "code",
   "execution_count": 2,
   "metadata": {},
   "outputs": [],
   "source": [
    "kB = 8.617333e-2 # meV/K"
   ]
  },
  {
   "cell_type": "code",
   "execution_count": 3,
   "metadata": {},
   "outputs": [],
   "source": [
    "J, J_2, J_3, J_c, J_2c = symbols(r'J J_2 J_3 J_c J_2c')\n",
    "Gamma, Gamma_c, Gamma_2c, D, D_c = symbols(r'\\Gamma \\Gamma_c \\Gamma_2c D D_c')\n",
    "k_x, k_y = symbols(r'k_x k_y')\n",
    "beta = symbols(r'\\beta')\n",
    "T_N, pm = symbols(r'T_N pm')"
   ]
  },
  {
   "cell_type": "code",
   "execution_count": 4,
   "metadata": {},
   "outputs": [],
   "source": [
    "gamma_k = (cos(k_x) + cos(k_y))/2\n",
    "gamma_2k = (cos(2*k_x) + cos(2*k_y))/2\n",
    "\n",
    "B_k = ((8*J + 8*Gamma + J_c + Gamma_c)/2 - 2*J_2*(1 - cos(k_x)*cos(k_y))\n",
    "       -4*J_3*(1-gamma_2k) - 4*J_2c*(1-pm*gamma_k)\n",
    "      )\n",
    "C_k = (8*J*gamma_k + pm*J_c)/2 - I*(8*D*gamma_k + pm*D_c)/2\n",
    "\n",
    "E = sqrt(B_k**2 - Abs(C_k)**2)"
   ]
  },
  {
   "cell_type": "markdown",
   "metadata": {},
   "source": [
    "Check the magnon energies at high symmetry points"
   ]
  },
  {
   "cell_type": "code",
   "execution_count": 5,
   "metadata": {},
   "outputs": [],
   "source": [
    "params = [\n",
    "    (J, 93./2),\n",
    "    (J_2, 11.9/2),\n",
    "    (J_3, 14.6/2),\n",
    "    (J_2c, 6.2),\n",
    "    (Gamma, 4.4/2),\n",
    "    (J_c, 25.2),\n",
    "    (Gamma_c, 34.3),\n",
    "    (D, 24.5/2),\n",
    "    (D_c, 28.1)]\n",
    "\n",
    "E_subs = E.subs(params)\n",
    "E_p = E.subs(pm, 1)\n",
    "E_m = E.subs(pm, -1)"
   ]
  },
  {
   "cell_type": "code",
   "execution_count": 6,
   "metadata": {},
   "outputs": [
    {
     "data": {
      "text/markdown": [
       "Magnon energies at ($\\pi$, 0) = 174.9 meV and ($\\pi$, $\\pi$)=83.7 meV"
      ],
      "text/plain": [
       "<IPython.core.display.Markdown object>"
      ]
     },
     "execution_count": 6,
     "metadata": {},
     "output_type": "execute_result"
    }
   ],
   "source": [
    "E_pi0 = E_subs.subs([(k_x, pi), (k_y, 0), (pm, 1)])\n",
    "E_pipi = E_subs.subs([(k_x, pi), (k_y, pi), (pm, -1)])\n",
    "\n",
    "Markdown(f\"Magnon energies at ($\\pi$, 0) = {E_pi0:.1f} meV and ($\\pi$, $\\pi$)={E_pipi:.1f} meV\")"
   ]
  },
  {
   "cell_type": "code",
   "execution_count": 7,
   "metadata": {},
   "outputs": [],
   "source": [
    "integrand = (B_k.subs(pm, 1)/(E_p*tanh(beta*E_p)) + B_k.subs(pm, -1)/(E_m*tanh(beta*E_m)) )\n",
    "S = 1 - (1/(16*pi**2)) *  Integral(integrand, (k_x, -pi, pi), (k_y, -pi, pi))"
   ]
  },
  {
   "cell_type": "code",
   "execution_count": 8,
   "metadata": {},
   "outputs": [
    {
     "name": "stderr",
     "output_type": "stream",
     "text": [
      "/Users/markdean/anaconda3/envs/main/lib/python3.7/site-packages/scipy/integrate/quadpack.py:448: ComplexWarning: Casting complex values to real discards the imaginary part\n",
      "  return _quadpack._qagse(func,a,b,args,full_output,epsabs,epsrel,limit)\n",
      "/Users/markdean/anaconda3/envs/main/lib/python3.7/site-packages/scipy/integrate/quadpack.py:860: IntegrationWarning: The maximum number of subdivisions (50) has been achieved.\n",
      "  If increasing the limit yields no improvement it is advised to analyze \n",
      "  the integrand in order to determine the difficulties.  If the position of a \n",
      "  local difficulty can be determined (singularity, discontinuity) one will \n",
      "  probably gain from splitting up the interval and calling the integrator \n",
      "  on the subranges.  Perhaps a special-purpose integrator should be used.\n",
      "  **opt)\n",
      "/Users/markdean/anaconda3/envs/main/lib/python3.7/site-packages/scipy/integrate/quadpack.py:860: IntegrationWarning: The integral is probably divergent, or slowly convergent.\n",
      "  **opt)\n"
     ]
    }
   ],
   "source": [
    "beta_val = 1. /(kB*285)\n",
    "I = lambdify([k_x, k_y], integrand.subs(params + [(beta, beta_val)]))\n",
    "total, error = dblquad(I, -np.pi, np.pi, lambda x: -np.pi, lambda x: np.pi, epsrel=1e-2)"
   ]
  },
  {
   "cell_type": "code",
   "execution_count": null,
   "metadata": {},
   "outputs": [
    {
     "name": "stdout",
     "output_type": "stream",
     "text": [
      "T=[285.]\n",
      "T=[285.00000001]\n",
      "T=[285.]\n",
      "T=[284.99998518]\n",
      "T=[284.99998518]\n"
     ]
    }
   ],
   "source": [
    "def get_S(T):\n",
    "    print(f\"T={T}\")\n",
    "    beta_val = 1. /(kB*T)\n",
    "    I = lambdify([k_x, k_y], integrand.subs(params + [(beta, beta_val)]))\n",
    "    total, error = dblquad(I, -np.pi, np.pi, lambda x: -np.pi, lambda x: np.pi, epsrel=1e-2)\n",
    "    S = 1 - total/(16*np.pi**2)\n",
    "    print(f\"S={S}\")\n",
    "    return np.abs(S)**2\n",
    "\n",
    "\n",
    "minimize(get_S, 285)"
   ]
  },
  {
   "cell_type": "code",
   "execution_count": null,
   "metadata": {},
   "outputs": [],
   "source": []
  }
 ],
 "metadata": {
  "kernelspec": {
   "display_name": "Python 3",
   "language": "python",
   "name": "python3"
  },
  "language_info": {
   "codemirror_mode": {
    "name": "ipython",
    "version": 3
   },
   "file_extension": ".py",
   "mimetype": "text/x-python",
   "name": "python",
   "nbconvert_exporter": "python",
   "pygments_lexer": "ipython3",
   "version": "3.7.3"
  }
 },
 "nbformat": 4,
 "nbformat_minor": 4
}
