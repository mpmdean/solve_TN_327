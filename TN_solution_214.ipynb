{
 "cells": [
  {
   "cell_type": "code",
   "execution_count": 2,
   "metadata": {},
   "outputs": [],
   "source": [
    "from sympy import symbols, pi, log, cos, sqrt\n",
    "from sympy.solvers import solve\n",
    "\n",
    "from sympy import init_printing\n",
    "from IPython.display import Latex\n",
    "init_printing()"
   ]
  },
  {
   "cell_type": "markdown",
   "metadata": {},
   "source": [
    "Using Robert Konik's notes"
   ]
  },
  {
   "cell_type": "code",
   "execution_count": 3,
   "metadata": {},
   "outputs": [],
   "source": [
    "kB = 8.617333e-2 # meV/K"
   ]
  },
  {
   "cell_type": "markdown",
   "metadata": {},
   "source": [
    "Define symbols"
   ]
  },
  {
   "cell_type": "code",
   "execution_count": 4,
   "metadata": {},
   "outputs": [],
   "source": [
    "T_N, J_tilde, J_c = symbols(r'T_N \\tilde{J} J_c')\n",
    "k_x, k_y, k_z = symbols('k_x k_y, k_z')"
   ]
  },
  {
   "cell_type": "markdown",
   "metadata": {},
   "source": [
    "Define magnetic dispersion to check have have the correct exchange parameter"
   ]
  },
  {
   "cell_type": "code",
   "execution_count": 5,
   "metadata": {},
   "outputs": [],
   "source": [
    "J_k = 2*J_tilde*(cos(k_x) + cos(k_y)) + 2*J_c*cos(k_z)\n",
    "E_k = sqrt(J_k.subs([(k_x, 0), (k_y, 0), (k_z, 0)])**2 \n",
    "          - J_k**2)"
   ]
  },
  {
   "cell_type": "markdown",
   "metadata": {},
   "source": [
    "The energy at $(\\pi, 0)$ should be 200 meV, which implies a $\\tilde{J}=50$ meV"
   ]
  },
  {
   "cell_type": "code",
   "execution_count": 6,
   "metadata": {},
   "outputs": [
    {
     "data": {
      "image/png": "[encoded data removed]",
      "text/latex": [
       "$\\displaystyle 200$"
      ],
      "text/plain": [
       "200"
      ]
     },
     "execution_count": 6,
     "metadata": {},
     "output_type": "execute_result"
    }
   ],
   "source": [
    "E_k.subs([(k_x, pi), (k_y, 0), (k_z, 0), (J_tilde, 50), (J_c, 0)])"
   ]
  },
  {
   "cell_type": "markdown",
   "metadata": {},
   "source": [
    "Robert's expression for $T_n$ is"
   ]
  },
  {
   "cell_type": "code",
   "execution_count": 7,
   "metadata": {},
   "outputs": [
    {
     "data": {
      "image/png": "[encoded data removed]",
      "text/latex": [
       "$\\displaystyle T_{N} - \\frac{\\pi \\tilde{J}}{\\log{\\left(\\frac{T_{N}^{2}}{4 J_{c} \\tilde{J}} \\right)}}$"
      ],
      "text/plain": [
       "          π⋅\\tilde{J}     \n",
       "T_N - ────────────────────\n",
       "         ⎛         2     ⎞\n",
       "         ⎜      T_N      ⎟\n",
       "      log⎜───────────────⎟\n",
       "         ⎝4⋅J_c⋅\\tilde{J}⎠"
      ]
     },
     "execution_count": 7,
     "metadata": {},
     "output_type": "execute_result"
    }
   ],
   "source": [
    "expr = T_N - pi * J_tilde / log(T_N**2 / (4*J_tilde *J_c))\n",
    "expr"
   ]
  },
  {
   "cell_type": "markdown",
   "metadata": {},
   "source": [
    "Solve what $J_c$ is required to reproduce experimental $T_N$"
   ]
  },
  {
   "cell_type": "code",
   "execution_count": 8,
   "metadata": {},
   "outputs": [
    {
     "data": {
      "text/latex": [
       "$J_c = 1.08$ $\\mu$eV"
      ],
      "text/plain": [
       "<IPython.core.display.Latex object>"
      ]
     },
     "execution_count": 8,
     "metadata": {},
     "output_type": "execute_result"
    }
   ],
   "source": [
    "sol = solve(expr, J_c)[0]\n",
    "T_N_experiment = 240 * kB # in meV\n",
    "J_c_val = sol.subs([(J_tilde, 50.), (T_N, T_N_experiment)]).evalf()\n",
    "Latex(r'$J_c = {:.2f}$ $\\mu$eV'.format(J_c_val*1e3))"
   ]
  },
  {
   "cell_type": "markdown",
   "metadata": {},
   "source": [
    "Predict $T_N$ based on $J_p = 15.86 \\mu$eV taken from PRB Phys. Rev. B 94, 224420 (2016)"
   ]
  },
  {
   "cell_type": "code",
   "execution_count": 9,
   "metadata": {},
   "outputs": [
    {
     "data": {
      "text/latex": [
       "$T_N = 386.2$ K"
      ],
      "text/plain": [
       "<IPython.core.display.Latex object>"
      ]
     },
     "execution_count": 9,
     "metadata": {},
     "output_type": "execute_result"
    }
   ],
   "source": [
    "sol = solve(expr, T_N)[0]\n",
    "T_N_prediction = sol.subs([(J_tilde, 60.), (J_c, 16e-3)]).evalf()\n",
    "Latex(r'$T_N = {:.1f}$ K'.format(T_N_prediction/kB))"
   ]
  }
 ],
 "metadata": {
  "kernelspec": {
   "display_name": "Python 3",
   "language": "python",
   "name": "python3"
  },
  "language_info": {
   "codemirror_mode": {
    "name": "ipython",
    "version": 3
   },
   "file_extension": ".py",
   "mimetype": "text/x-python",
   "name": "python",
   "nbconvert_exporter": "python",
   "pygments_lexer": "ipython3",
   "version": "3.7.3"
  }
 },
 "nbformat": 4,
 "nbformat_minor": 4
}
