{
 "cells": [
  {
   "cell_type": "code",
   "execution_count": 1,
   "metadata": {},
   "outputs": [],
   "source": [
    "from sympy import symbols, pi, log\n",
    "from sympy.solvers import solve\n",
    "\n",
    "from sympy import init_printing\n",
    "from IPython.display import Latex\n",
    "init_printing()"
   ]
  },
  {
   "cell_type": "code",
   "execution_count": 2,
   "metadata": {},
   "outputs": [],
   "source": [
    "kB = 8.617333e-2 # meV/K"
   ]
  },
  {
   "cell_type": "code",
   "execution_count": 3,
   "metadata": {},
   "outputs": [],
   "source": [
    "T_N, J_tilde, J_c = symbols(r'T_N \\tilde{J} J_c')"
   ]
  },
  {
   "cell_type": "code",
   "execution_count": 4,
   "metadata": {},
   "outputs": [
    {
     "data": {
      "image/png": "[encoded data removed]",
      "text/latex": [
       "$\\displaystyle T_{N} - \\frac{\\pi \\tilde{J}}{\\log{\\left(\\frac{T_{N}^{2}}{4 J_{c} \\tilde{J}} \\right)}}$"
      ],
      "text/plain": [
       "          π⋅\\tilde{J}     \n",
       "T_N - ────────────────────\n",
       "         ⎛         2     ⎞\n",
       "         ⎜      T_N      ⎟\n",
       "      log⎜───────────────⎟\n",
       "         ⎝4⋅J_c⋅\\tilde{J}⎠"
      ]
     },
     "execution_count": 4,
     "metadata": {},
     "output_type": "execute_result"
    }
   ],
   "source": [
    "expr = T_N - pi * J_tilde / log(T_N**2 / (4*J_tilde *J_c))\n",
    "expr"
   ]
  },
  {
   "cell_type": "markdown",
   "metadata": {},
   "source": [
    "Solve what $J_c$ is required to reproduce experimental $T_N$"
   ]
  },
  {
   "cell_type": "code",
   "execution_count": 5,
   "metadata": {},
   "outputs": [
    {
     "data": {
      "text/latex": [
       "$J_c = 0.20$ $\\mu$eV"
      ],
      "text/plain": [
       "<IPython.core.display.Latex object>"
      ]
     },
     "execution_count": 5,
     "metadata": {},
     "output_type": "execute_result"
    }
   ],
   "source": [
    "sol = solve(expr, J_c)[0]\n",
    "T_N_experiment = 240 * kB # in meV\n",
    "J_c_val = sol.subs([(J_tilde, 60.), (T_N, T_N_experiment)]).evalf()\n",
    "Latex(r'$J_c = {:.2f}$ $\\mu$eV'.format(J_c_val*1e3))"
   ]
  },
  {
   "cell_type": "markdown",
   "metadata": {},
   "source": [
    "Predict $T_N$ based on $J_p = 15.86 \\mu$eV"
   ]
  },
  {
   "cell_type": "code",
   "execution_count": 6,
   "metadata": {},
   "outputs": [
    {
     "data": {
      "text/latex": [
       "$T_N = 386.2$ K"
      ],
      "text/plain": [
       "<IPython.core.display.Latex object>"
      ]
     },
     "execution_count": 6,
     "metadata": {},
     "output_type": "execute_result"
    }
   ],
   "source": [
    "sol = solve(expr, T_N)[0]\n",
    "T_N_prediction = sol.subs([(J_tilde, 60.), (J_c, 16e-3)]).evalf()\n",
    "Latex(r'$T_N = {:.1f}$ K'.format(T_N_prediction/kB))"
   ]
  }
 ],
 "metadata": {
  "kernelspec": {
   "display_name": "Python 3",
   "language": "python",
   "name": "python3"
  },
  "language_info": {
   "codemirror_mode": {
    "name": "ipython",
    "version": 3
   },
   "file_extension": ".py",
   "mimetype": "text/x-python",
   "name": "python",
   "nbconvert_exporter": "python",
   "pygments_lexer": "ipython3",
   "version": "3.7.3"
  }
 },
 "nbformat": 4,
 "nbformat_minor": 4
}
